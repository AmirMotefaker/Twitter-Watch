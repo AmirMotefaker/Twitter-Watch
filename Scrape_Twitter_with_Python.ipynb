{
  "nbformat": 4,
  "nbformat_minor": 0,
  "metadata": {
    "colab": {
      "provenance": [],
      "authorship_tag": "ABX9TyPnQ9iRM4J6XP0Bb0BuXeMF",
      "include_colab_link": true
    },
    "kernelspec": {
      "name": "python3",
      "display_name": "Python 3"
    },
    "language_info": {
      "name": "python"
    }
  },
  "cells": [
    {
      "cell_type": "markdown",
      "metadata": {
        "id": "view-in-github",
        "colab_type": "text"
      },
      "source": [
        "<a href=\"https://colab.research.google.com/github/AmirMotefaker/Twitter-Watch/blob/main/Scrape_Twitter_with_Python.ipynb\" target=\"_parent\"><img src=\"https://colab.research.google.com/assets/colab-badge.svg\" alt=\"Open In Colab\"/></a>"
      ]
    },
    {
      "cell_type": "markdown",
      "source": [
        "# Why Scrape Twitter?\n",
        "\n",
        "- [Twitter](https://twitter.com/Twitter) is a major announcement hub where people and companies publish their announcements. This is a great opportunity to use Twitter to follow industry trends. For example, stock market or crypto market targets could be scraped to predict the future price of a stock or crypto.\n",
        "\n",
        "- Twitter is also a great source of data for sentiment analysis. You can use Twitter to find out what people think about a certain topic or brand. This is useful for market research, product development, and brand awareness.\n",
        "\n",
        "- So, if we can scrape Twitter data with Python we can have access to this valuable public information for free!"
      ],
      "metadata": {
        "id": "zOEizb9M8XZj"
      }
    },
    {
      "cell_type": "markdown",
      "source": [
        "# Setup Wizard\n",
        "\n",
        "- We'll approach Twitter scraping in three ways:\n",
        "\n",
        "  - We'll be using [browser automation toolkit Playwright](https://scrapfly.io/blog/web-scraping-with-playwright-and-python/)\n",
        "    - This is the easiest way to scrape Twitter as we are using real web browser, so all we have to do is navigate to url, wait for page to load and get the results.\n",
        "\n",
        "  - We'll also take a look at reverse engineering Twitter's hidden API.\n",
        "This will be a bit harder but these type of scrapers will be much faster than the browser ones. For this we'll be using [httpx](https://pypi.org/project/httpx/).\n",
        "\n",
        "  - For ScrapFly users we'll also take a look at ScrapFly SDK which makes the above methods even easier.\n",
        "\n",
        "\n",
        "- We'll be working with both JSON and HTML response data. So, we'll be using [parsel](https://pypi.org/project/parsel/) to parse HTML and [jamespath for JSON](https://scrapfly.io/blog/parse-json-jmespath-python/)."
      ],
      "metadata": {
        "id": "Ll6VGmLI9vvE"
      }
    },
    {
      "cell_type": "markdown",
      "source": [
        "#### All of these libraries are available for free and can be installed via the pip install terminal command:\n",
        "\n",
        "   $ pip install httpx playwright parsel jmespath scrapfly-sdk\n",
        "\n"
      ],
      "metadata": {
        "id": "1rK2xyOO-6D-"
      }
    }
  ]
}
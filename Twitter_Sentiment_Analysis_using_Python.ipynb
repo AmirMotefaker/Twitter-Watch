{
  "nbformat": 4,
  "nbformat_minor": 0,
  "metadata": {
    "colab": {
      "provenance": [],
      "authorship_tag": "ABX9TyN+Jga5M6Vz+qjBLH1tQpGW",
      "include_colab_link": true
    },
    "kernelspec": {
      "name": "python3",
      "display_name": "Python 3"
    },
    "language_info": {
      "name": "python"
    }
  },
  "cells": [
    {
      "cell_type": "markdown",
      "metadata": {
        "id": "view-in-github",
        "colab_type": "text"
      },
      "source": [
        "<a href=\"https://colab.research.google.com/github/AmirMotefaker/Twitter-Watch/blob/main/Twitter_Sentiment_Analysis_using_Python.ipynb\" target=\"_parent\"><img src=\"https://colab.research.google.com/assets/colab-badge.svg\" alt=\"Open In Colab\"/></a>"
      ]
    },
    {
      "cell_type": "markdown",
      "source": [
        "# What is sentiment analysis? \n",
        "- Sentiment analysis is contextual mining of text which identifies and extracts subjective information in the source material and helps a business to understand the social sentiment of their brand, product, or service while monitoring online conversations. However, analysis of social media streams is usually restricted to just basic sentiment analysis and count-based metrics.\n",
        "\n",
        "- Sentiment analysis is an artificial intelligence (AI)-based capability that uses machine learning to recognize sentiments and assess the emotional content of texts and images. It is a layer of understanding applied to the rest of your market research and social analytics that puts data analytics into context. And it offers meaningful insights to drive everything from product innovation and packaging to messaging and maintaining a competitive edge. It categorizes consumer emotions and overarching market movements by type and intensity.\n",
        "\n",
        "- Social listening, social monitoring, image analytics, and customer experience analytics – all of these rely on valuable and accurate sentiment analysis.\n",
        "\n",
        "\n",
        "# The Different Types of Sentiment Analysis\n",
        "- Machine learning-based sentiment analysis: A machine learning algorithm learns from the data as it goes. It requires and is dependent upon its training and builds upon itself. If it becomes baked into the sentiment analysis algorithm, it learns something incorrectly. Machine learning models are often trained on very questionable datasets that typically contain little to no social channel data, making them an ill-advised option for understanding sentiment. Although it has made great strides in handling low-level tasks, when it comes to understanding the meaning of human language, there are still many problems with machine learning-based sentiment analysis and many ways in which it is inferior to rule-based systems.\n",
        "\n",
        "- Rule-based sentiment analysis: This sentiment analysis model consists of manually created rules that count things up for an aggregated score. It sounds simplistic, and it is, but it’s also effective (to a degree). But it has limitations: “The result of this approach is a set of rules based on which the text is labeled as neutral, positive and negative words. These rules are also known as lexicons. Hence, the Rule-based approach is also called the Lexicon-based approach.”\n",
        "\n",
        "- Aspect-based sentiment analysis: This categorizes data by aspect and identifies the sentiment attributed to each. It associates specific sentiments with different aspects shared. For example, ”I want to go swimming so much.” It is clear that the person has positive feelings about swimming, as evidenced by their desire to frequent the location. Sentiment analysis identifies positive sentiment on the part of the subject towards swimming. We will discuss aspect-based sentiment analysis below and as we go, so keep reading!\n",
        "\n",
        "\n",
        "# Five ways a sentiment analysis system can help us:\n",
        "- Better Audience Understanding\n",
        "  - Remember that your mentions—whether positive, negative, or neutral—don’t occur in a vacuum. Instead of concentrating on a single compliment or complaint, brands should consider the overall sentiment of their audience. Every brand loves a barrage of compliments, which can help you understand what you’re doing right.\n",
        "\n",
        "- Provides Actionable Insights\n",
        "  - Consumers love to tag and talk about brands online, making a social media sentiment analysis ideal due to the wealth of information available. You can get accurate data points demonstrating how your brand performs over time and across all platforms.\n",
        "\n",
        "- Meet your consumers where they are\n",
        "  - Because consumers are talking online, brands are given the distinct opportunity to meet them where they are and with precisely what they desire. You can engage directly with your audience, answer their questions, or even respond to criticism promptly. Your brand’s health is protected by solving customers’ problems or not letting a consumer complaint fester.\n",
        "\n",
        "# Text Classifier — The basic building blocks\n",
        "\n",
        "## Sentiment Analysis\n",
        "- Sentiment Analysis is the most common text classification tool that analyses an incoming message and tells whether the underlying sentiment is positive, negative, or neutral. \n",
        "\n",
        "## Intent Analysis\n",
        "- Intent analysis steps up the game by analyzing the user’s intention behind a message and identifying whether it relates to an opinion, news, marketing, complaint, suggestion, appreciation, or query.\n",
        "\n",
        "## Contextual Semantic Search(CSS)\n",
        "- To derive actionable insights, it is important to understand what aspect of the brand is a user discussing. For example, Amazon would want to segregate messages related to late deliveries, billing issues, promotion-related queries, product reviews, etc. On the other hand, Starbucks would want to classify messages based on whether they relate to staff behavior, new coffee flavors, hygiene feedback, online orders, store name, and location, etc. But how can one do that?\n",
        "\n",
        "- We introduce an intelligent smart search algorithm called Contextual Semantic Search (a.k.a. CSS). The way CSS works are that it takes thousands of messages and a concept (like Price) as input and filters all the messages that closely match the given concept.\n",
        "\n",
        "- An AI technique is used to convert every word into a specific point in the hyperspace and the distance between these points is used to identify messages where the context is similar to the concept are exploring.\n",
        "\n",
        "- Ref: [Sentiment Analysis: Concept, Analysis and Applications](https://towardsdatascience.com/sentiment-analysis-concept-analysis-and-applications-6c94d6f58c17)"
      ],
      "metadata": {
        "id": "UpGaz-W1Gk0e"
      }
    }
  ]
}
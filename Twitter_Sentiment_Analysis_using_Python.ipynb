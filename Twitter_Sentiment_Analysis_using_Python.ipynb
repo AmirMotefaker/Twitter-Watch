{
  "nbformat": 4,
  "nbformat_minor": 0,
  "metadata": {
    "colab": {
      "provenance": [],
      "authorship_tag": "ABX9TyNXkPWSio9Czo+hsPiQAK/b",
      "include_colab_link": true
    },
    "kernelspec": {
      "name": "python3",
      "display_name": "Python 3"
    },
    "language_info": {
      "name": "python"
    }
  },
  "cells": [
    {
      "cell_type": "markdown",
      "metadata": {
        "id": "view-in-github",
        "colab_type": "text"
      },
      "source": [
        "<a href=\"https://colab.research.google.com/github/AmirMotefaker/Twitter-Watch/blob/main/Twitter_Sentiment_Analysis_using_Python.ipynb\" target=\"_parent\"><img src=\"https://colab.research.google.com/assets/colab-badge.svg\" alt=\"Open In Colab\"/></a>"
      ]
    },
    {
      "cell_type": "markdown",
      "source": [
        "# What is sentiment analysis? \n",
        "- Sentiment analysis is contextual mining of text which identifies and extracts subjective information in the source material and helps a business to understand the social sentiment of their brand, product, or service while monitoring online conversations. However, analysis of social media streams is usually restricted to just basic sentiment analysis and count-based metrics.\n",
        "\n",
        "# Text Classifier — The basic building blocks\n",
        "\n",
        "## Sentiment Analysis\n",
        "- Sentiment Analysis is the most common text classification tool that analyses an incoming message and tells whether the underlying sentiment is positive, negative, or neutral. \n",
        "\n",
        "## Intent Analysis\n",
        "- Intent analysis steps up the game by analyzing the user’s intention behind a message and identifying whether it relates to an opinion, news, marketing, complaint, suggestion, appreciation, or query.\n",
        "\n",
        "## Contextual Semantic Search(CSS)\n",
        "- To derive actionable insights, it is important to understand what aspect of the brand is a user discussing. For example, Amazon would want to segregate messages related to late deliveries, billing issues, promotion-related queries, product reviews, etc. On the other hand, Starbucks would want to classify messages based on whether they relate to staff behavior, new coffee flavors, hygiene feedback, online orders, store name, and location, etc. But how can one do that?"
      ],
      "metadata": {
        "id": "UpGaz-W1Gk0e"
      }
    }
  ]
}
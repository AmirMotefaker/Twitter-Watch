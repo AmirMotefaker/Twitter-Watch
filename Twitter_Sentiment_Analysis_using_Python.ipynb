{
  "nbformat": 4,
  "nbformat_minor": 0,
  "metadata": {
    "colab": {
      "provenance": [],
      "authorship_tag": "ABX9TyN1+V9fxfsa9wq5pREs8jcj",
      "include_colab_link": true
    },
    "kernelspec": {
      "name": "python3",
      "display_name": "Python 3"
    },
    "language_info": {
      "name": "python"
    }
  },
  "cells": [
    {
      "cell_type": "markdown",
      "metadata": {
        "id": "view-in-github",
        "colab_type": "text"
      },
      "source": [
        "<a href=\"https://colab.research.google.com/github/AmirMotefaker/Twitter-Watch/blob/main/Twitter_Sentiment_Analysis_using_Python.ipynb\" target=\"_parent\"><img src=\"https://colab.research.google.com/assets/colab-badge.svg\" alt=\"Open In Colab\"/></a>"
      ]
    },
    {
      "cell_type": "markdown",
      "source": [
        "# What is sentiment analysis? \n",
        "- Sentiment analysis is contextual mining of text which identifies and extracts subjective information in the source material and helps a business to understand the social sentiment of their brand, product, or service while monitoring online conversations. However, analysis of social media streams is usually restricted to just basic sentiment analysis and count-based metrics.\n",
        "\n",
        "- Sentiment analysis is an artificial intelligence (AI)-based capability that uses machine learning to recognize sentiments and assess the emotional content of texts and images. It is a layer of understanding applied to the rest of your market research and social analytics that puts data analytics into context. And it offers meaningful insights to drive everything from product innovation and packaging to messaging and maintaining a competitive edge. It categorizes consumer emotions and overarching market movements by type and intensity.\n",
        "\n",
        "- Social listening, social monitoring, image analytics, and customer experience analytics – all of these rely on valuable and accurate sentiment analysis.\n",
        "\n",
        "\n",
        "# The Different Types of Sentiment Analysis\n",
        "- Machine learning-based sentiment analysis: A machine learning algorithm learns from the data as it goes. It requires and is dependent upon its training and builds upon itself. If it becomes baked into the sentiment analysis algorithm, it learns something incorrectly. Machine learning models are often trained on very questionable datasets that typically contain little to no social channel data, making them an ill-advised option for understanding sentiment. Although it has made great strides in handling low-level tasks, when it comes to understanding the meaning of human language, there are still many problems with machine learning-based sentiment analysis and many ways in which it is inferior to rule-based systems.\n",
        "\n",
        "- Rule-based sentiment analysis: This sentiment analysis model consists of manually created rules that count things up for an aggregated score. It sounds simplistic, and it is, but it’s also effective (to a degree). But it has limitations: “The result of this approach is a set of rules based on which the text is labeled as neutral, positive and negative words. These rules are also known as lexicons. Hence, the Rule-based approach is also called the Lexicon-based approach.”\n",
        "\n",
        "- Aspect-based sentiment analysis: This categorizes data by aspect and identifies the sentiment attributed to each. It associates specific sentiments with different aspects shared. For example, ”I want to go swimming so much.” It is clear that the person has positive feelings about swimming, as evidenced by their desire to frequent the location. Sentiment analysis identifies positive sentiment on the part of the subject towards swimming. We will discuss aspect-based sentiment analysis below and as we go, so keep reading!\n",
        "\n",
        "\n",
        "# Five ways a sentiment analysis system can help us:\n",
        "- Better Audience Understanding\n",
        "  - Remember that your mentions—whether positive, negative, or neutral—don’t occur in a vacuum. Instead of concentrating on a single compliment or complaint, brands should consider the overall sentiment of their audience. Every brand loves a barrage of compliments, which can help you understand what you’re doing right.\n",
        "\n",
        "- Provides Actionable Insights\n",
        "  - Consumers love to tag and talk about brands online, making a social media sentiment analysis ideal due to the wealth of information available. You can get accurate data points demonstrating how your brand performs over time and across all platforms.\n",
        "\n",
        "- Meet your consumers where they are\n",
        "  - Because consumers are talking online, brands are given the distinct opportunity to meet them where they are and with precisely what they desire. You can engage directly with your audience, answer their questions, or even respond to criticism promptly. Your brand’s health is protected by solving customers’ problems or not letting a consumer complaint fester.\n",
        "\n",
        "- More profound insights about your brand, its messaging, and more\n",
        "  - You can modify your brand messaging for a more significant impact when you account for how users interact with your brand and the type of content they value. A sentiment analysis system allows you to see what consumers love and hate.\n",
        "\n",
        "- Understand How You Measure Up in Your Industry\n",
        "  - Brands can’t be everything to everyone. You can use social sentiment to gauge your position in your industry. Your ability to communicate effectively with the appropriate audiences at the proper times will benefit from this.\n",
        "\n",
        "\n",
        "# Text Classifier — The basic building blocks\n",
        "\n",
        "## Sentiment Analysis\n",
        "- Sentiment Analysis is the most common text classification tool that analyses an incoming message and tells whether the underlying sentiment is positive, negative, or neutral. \n",
        "\n",
        "## Intent Analysis\n",
        "- Intent analysis steps up the game by analyzing the user’s intention behind a message and identifying whether it relates to an opinion, news, marketing, complaint, suggestion, appreciation, or query.\n",
        "\n",
        "## Contextual Semantic Search(CSS)\n",
        "- To derive actionable insights, it is important to understand what aspect of the brand is a user discussing. For example, Amazon would want to segregate messages related to late deliveries, billing issues, promotion-related queries, product reviews, etc. On the other hand, Starbucks would want to classify messages based on whether they relate to staff behavior, new coffee flavors, hygiene feedback, online orders, store name, and location, etc. But how can one do that?\n",
        "\n",
        "- We introduce an intelligent smart search algorithm called Contextual Semantic Search (a.k.a. CSS). The way CSS works are that it takes thousands of messages and a concept (like Price) as input and filters all the messages that closely match the given concept.\n",
        "\n",
        "- An AI technique is used to convert every word into a specific point in the hyperspace and the distance between these points is used to identify messages where the context is similar to the concept are exploring.\n",
        "\n",
        "- Ref1: [What is Sentiment Analysis?](https://aws.amazon.com/what-is/sentiment-analysis/)\n",
        "- Ref2: [Sentiment Analysis: Concept, Analysis and Applications](https://towardsdatascience.com/sentiment-analysis-concept-analysis-and-applications-6c94d6f58c17)"
      ],
      "metadata": {
        "id": "UpGaz-W1Gk0e"
      }
    },
    {
      "cell_type": "markdown",
      "source": [
        "# Requirements"
      ],
      "metadata": {
        "id": "zs163LGfdFJ9"
      }
    },
    {
      "cell_type": "markdown",
      "source": [
        "## [Tweepy](https://github.com/tweepy/tweepy)\n",
        "\n",
        "  -  tweepy is the python client for the official [Twitter API](https://dev.twitter.com/rest/public). \n",
        "\n",
        "  - [Tweepy latest version documentation](https://docs.tweepy.org/en/v4.12.1/)\n",
        "\n",
        "\n",
        "  - Install it using the following pip command:\n",
        "\n",
        "      - pip install tweepy\n",
        "      \n",
        "\n",
        "\n",
        "- [Documentation](https://tweepy.readthedocs.io/en/latest/)\n",
        "\n",
        "- [Official Discord Server](https://discord.gg/bJvqnhg)\n",
        "\n",
        "- [Twitter API Documentation](https://developer.twitter.com/en/docs/twitter-api)"
      ],
      "metadata": {
        "id": "wxIbF5gfg7kZ"
      }
    },
    {
      "cell_type": "markdown",
      "source": [
        "## [TextBlob](https://github.com/sloria/TextBlob)\n",
        "\n",
        "  - textblob is a Simple, Python, text processing--Sentiment analysis, part-of-speech tagging, noun phrase extraction, translation, and more.\n",
        "\n",
        "  - [TextBlob documentation](https://textblob.readthedocs.io/en/dev/)\n",
        "\n",
        "\n",
        "  - Install it using the following pip command:\n",
        "\n",
        "      - pip install -U textblob\n",
        "      \n",
        "\n",
        "\n",
        "- Docs: https://textblob.readthedocs.io/\n",
        "\n",
        "- Changelog: https://textblob.readthedocs.io/en/latest/changelog.html\n",
        "\n",
        "- PyPI: https://pypi.python.org/pypi/TextBlob\n",
        "\n",
        "- Issues: https://github.com/sloria/TextBlob/issues"
      ],
      "metadata": {
        "id": "eg31-Jf-g9Mo"
      }
    },
    {
      "cell_type": "markdown",
      "source": [
        "## NLTK\n",
        "- We need to install some NLTK corpora, Corpora are nothing but a large and structured set of texts. Use the following command to install NLTK corpora :\n",
        "  - python -m textblob.download_corpora\n",
        "\n",
        "- [Accessing Text Corpora and Lexical Resources](https://www.nltk.org/book/ch02.html)"
      ],
      "metadata": {
        "id": "t6SShIl_oWYL"
      }
    },
    {
      "cell_type": "markdown",
      "source": [
        "# Twitter API\n",
        "\n",
        "- Open this [link](https://apps.twitter.com/) and click the button: ‘Create New App’\n",
        "- Fill the application details. You can leave the callback url field empty.\n",
        "- Once the app is created, you will be redirected to the app page.\n",
        "- Open the ‘Keys and Access Tokens’ tab.\n",
        "- Copy ‘Consumer Key’, ‘Consumer Secret’, ‘Access token’ and ‘Access Token Secret’."
      ],
      "metadata": {
        "id": "SXRw5jCcotTz"
      }
    },
    {
      "cell_type": "code",
      "source": [
        "import re # A Regular Expression (RegEx) is a sequence of characters that defines a search pattern.\n",
        "import tweepy\n",
        "from tweepy import OAuthHandler\n",
        "from textblob import TextBlob\n",
        " \n",
        "class TwitterClient(object):\n",
        "    '''\n",
        "    Generic Twitter Class for sentiment analysis.\n",
        "    '''\n",
        "    def __init__(self):\n",
        "        '''\n",
        "        Class constructor or initialization method.\n",
        "        '''\n",
        "        # keys and tokens from the Twitter Dev Console\n",
        "        consumer_key = 'XXXXXXXXXXXXXXXXXXXXXXXX'\n",
        "        consumer_secret = 'XXXXXXXXXXXXXXXXXXXXXXXXXXXX'\n",
        "        access_token = 'XXXXXXXXXXXXXXXXXXXXXXXXXXXX'\n",
        "        access_token_secret = 'XXXXXXXXXXXXXXXXXXXXXXXXX'\n",
        " \n",
        "        # attempt authentication\n",
        "        try:\n",
        "            # create OAuthHandler object\n",
        "            self.auth = OAuthHandler(consumer_key, consumer_secret)\n",
        "            # set access token and secret\n",
        "            self.auth.set_access_token(access_token, access_token_secret)\n",
        "            # create tweepy API object to fetch tweets\n",
        "            self.api = tweepy.API(self.auth)\n",
        "        except:\n",
        "            print(\"Error: Authentication Failed\")\n",
        " \n",
        "    def clean_tweet(self, tweet):\n",
        "        '''\n",
        "        Utility function to clean tweet text by removing links, special characters\n",
        "        using simple regex statements.\n",
        "        '''\n",
        "        return ' '.join(re.sub(\"(@[A-Za-z0-9]+)|([^0-9A-Za-z \\t])\n",
        "                                    |(\\w+:\\/\\/\\S+)\", \" \", tweet).split())\n",
        " \n",
        "    def get_tweet_sentiment(self, tweet):\n",
        "        '''\n",
        "        Utility function to classify sentiment of passed tweet\n",
        "        using textblob's sentiment method\n",
        "        '''\n",
        "        # create TextBlob object of passed tweet text\n",
        "        analysis = TextBlob(self.clean_tweet(tweet))\n",
        "        # set sentiment\n",
        "        if analysis.sentiment.polarity > 0:\n",
        "            return 'positive'\n",
        "        elif analysis.sentiment.polarity == 0:\n",
        "            return 'neutral'\n",
        "        else:\n",
        "            return 'negative'\n",
        " \n",
        "    def get_tweets(self, query, count = 10):\n",
        "        '''\n",
        "        Main function to fetch tweets and parse them.\n",
        "        '''\n",
        "        # empty list to store parsed tweets\n",
        "        tweets = []\n",
        " \n",
        "        try:\n",
        "            # call twitter api to fetch tweets\n",
        "            fetched_tweets = self.api.search(q = query, count = count)\n",
        " \n",
        "            # parsing tweets one by one\n",
        "            for tweet in fetched_tweets:\n",
        "                # empty dictionary to store required params of a tweet\n",
        "                parsed_tweet = {}\n",
        " \n",
        "                # saving text of tweet\n",
        "                parsed_tweet['text'] = tweet.text\n",
        "                # saving sentiment of tweet\n",
        "                parsed_tweet['sentiment'] = self.get_tweet_sentiment(tweet.text)\n",
        " \n",
        "                # appending parsed tweet to tweets list\n",
        "                if tweet.retweet_count > 0:\n",
        "                    # if tweet has retweets, ensure that it is appended only once\n",
        "                    if parsed_tweet not in tweets:\n",
        "                        tweets.append(parsed_tweet)\n",
        "                else:\n",
        "                    tweets.append(parsed_tweet)\n",
        " \n",
        "            # return parsed tweets\n",
        "            return tweets\n",
        " \n",
        "        except tweepy.TweepError as e:\n",
        "            # print error (if any)\n",
        "            print(\"Error : \" + str(e))\n",
        " \n",
        "def main():\n",
        "    # creating object of TwitterClient Class\n",
        "    api = TwitterClient()\n",
        "    # calling function to get tweets\n",
        "    tweets = api.get_tweets(query = 'Donald Trump', count = 200)\n",
        " \n",
        "    # picking positive tweets from tweets\n",
        "    ptweets = [tweet for tweet in tweets if tweet['sentiment'] == 'positive']\n",
        "    # percentage of positive tweets\n",
        "    print(\"Positive tweets percentage: {} %\".format(100*len(ptweets)/len(tweets)))\n",
        "    # picking negative tweets from tweets\n",
        "    ntweets = [tweet for tweet in tweets if tweet['sentiment'] == 'negative']\n",
        "    # percentage of negative tweets\n",
        "    print(\"Negative tweets percentage: {} %\".format(100*len(ntweets)/len(tweets)))\n",
        "    # percentage of neutral tweets\n",
        "    print(\"Neutral tweets percentage: {} % \\\n",
        "        \".format(100*(len(tweets) -(len( ntweets )+len( ptweets)))/len(tweets)))\n",
        " \n",
        "    # printing first 5 positive tweets\n",
        "    print(\"\\n\\nPositive tweets:\")\n",
        "    for tweet in ptweets[:10]:\n",
        "        print(tweet['text'])\n",
        " \n",
        "    # printing first 5 negative tweets\n",
        "    print(\"\\n\\nNegative tweets:\")\n",
        "    for tweet in ntweets[:10]:\n",
        "        print(tweet['text'])\n",
        " \n",
        "if __name__ == \"__main__\":\n",
        "    # calling main function\n",
        "    main()"
      ],
      "metadata": {
        "id": "a_oMHfjEpXQ-"
      },
      "execution_count": null,
      "outputs": []
    },
    {
      "cell_type": "markdown",
      "source": [
        "# Read Tweets"
      ],
      "metadata": {
        "id": "yNpfzua3cU15"
      }
    },
    {
      "cell_type": "code",
      "source": [
        "!pip install findspark\n",
        "!pip install pyspark"
      ],
      "metadata": {
        "colab": {
          "base_uri": "https://localhost:8080/"
        },
        "id": "f0EqLJ62cYef",
        "outputId": "89a97070-d2e4-4141-80f7-7caa4119c61d"
      },
      "execution_count": 3,
      "outputs": [
        {
          "output_type": "stream",
          "name": "stdout",
          "text": [
            "Looking in indexes: https://pypi.org/simple, https://us-python.pkg.dev/colab-wheels/public/simple/\n",
            "Requirement already satisfied: findspark in /usr/local/lib/python3.8/dist-packages (2.0.1)\n",
            "Looking in indexes: https://pypi.org/simple, https://us-python.pkg.dev/colab-wheels/public/simple/\n",
            "Collecting pyspark\n",
            "  Downloading pyspark-3.3.2.tar.gz (281.4 MB)\n",
            "\u001b[2K     \u001b[90m━━━━━━━━━━━━━━━━━━━━━━━━━━━━━━━━━━━━━━━\u001b[0m \u001b[32m281.4/281.4 MB\u001b[0m \u001b[31m4.9 MB/s\u001b[0m eta \u001b[36m0:00:00\u001b[0m\n",
            "\u001b[?25h  Preparing metadata (setup.py) ... \u001b[?25l\u001b[?25hdone\n",
            "Collecting py4j==0.10.9.5\n",
            "  Downloading py4j-0.10.9.5-py2.py3-none-any.whl (199 kB)\n",
            "\u001b[2K     \u001b[90m━━━━━━━━━━━━━━━━━━━━━━━━━━━━━━━━━━━━━━\u001b[0m \u001b[32m199.7/199.7 KB\u001b[0m \u001b[31m23.2 MB/s\u001b[0m eta \u001b[36m0:00:00\u001b[0m\n",
            "\u001b[?25hBuilding wheels for collected packages: pyspark\n",
            "  Building wheel for pyspark (setup.py) ... \u001b[?25l\u001b[?25hdone\n",
            "  Created wheel for pyspark: filename=pyspark-3.3.2-py2.py3-none-any.whl size=281824025 sha256=32132d97c3b5b939ceccb721d4e90f7da6b62c3866ac20093e640d30df427560\n",
            "  Stored in directory: /root/.cache/pip/wheels/b1/59/a0/a1a0624b5e865fd389919c1a10f53aec9b12195d6747710baf\n",
            "Successfully built pyspark\n",
            "Installing collected packages: py4j, pyspark\n",
            "Successfully installed py4j-0.10.9.5 pyspark-3.3.2\n"
          ]
        }
      ]
    },
    {
      "cell_type": "code",
      "source": [
        "import findspark\n",
        "findspark.init()\n",
        "import pyspark"
      ],
      "metadata": {
        "id": "idPudM_6dTwp"
      },
      "execution_count": 4,
      "outputs": []
    },
    {
      "cell_type": "code",
      "source": [
        "# import necessary packages\n",
        "from pyspark import SparkContext\n",
        "from pyspark.streaming import StreamingContext\n",
        "from pyspark.sql import SQLContext\n",
        "from pyspark.sql.functions import desc"
      ],
      "metadata": {
        "id": "h4CUhxY6ddbq"
      },
      "execution_count": 5,
      "outputs": []
    }
  ]
}